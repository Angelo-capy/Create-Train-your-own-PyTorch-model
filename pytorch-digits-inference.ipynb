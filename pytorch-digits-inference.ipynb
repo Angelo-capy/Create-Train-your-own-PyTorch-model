{
 "cells": [
  {
   "cell_type": "code",
   "execution_count": null,
   "id": "537b46e6",
   "metadata": {},
   "outputs": [],
   "source": [
    "import torch\n",
    "from torchvision import datasets, transforms\n",
    "import matplotlib.pyplot as plt\n",
    "import random\n",
    "\n",
    "# Define a transformation to convert the image to a tensor\n",
    "transform = transforms.Compose([\n",
    "    transforms.ToTensor()\n",
    "])\n",
    "\n",
    "# Load the test set with transformation\n",
    "test_data = datasets.MNIST(\n",
    "    root=\"data\",\n",
    "    train=False,\n",
    "    download=True,\n",
    "    transform=transform\n",
    ")\n",
    "\n",
    "# Load the entire model\n",
    "model = torch.jit.load(\"model.pth\")\n",
    "\n",
    "# Set the model to evaluation mode\n",
    "model.eval()\n",
    "\n",
    "# Select 16 random indices from the test dataset\n",
    "random_indices = random.sample(range(len(test_data)), 16)\n",
    "\n",
    "# Plot the 16 randomly selected images\n",
    "fig, axes = plt.subplots(4, 4, figsize=(12, 12))  # Create a 4x4 grid of subplots\n",
    "\n",
    "for i, ax in enumerate(axes.flat):\n",
    "    # Get a random image and its label\n",
    "    index = random_indices[i]\n",
    "    image, label = test_data[index]\n",
    "\n",
    "    # Add a batch dimension (model expects a batch of images)\n",
    "    image_batch = image.unsqueeze(0)\n",
    "\n",
    "    # Run inference\n",
    "    with torch.no_grad():\n",
    "        prediction = model(image_batch)\n",
    "\n",
    "    # Get the predicted class\n",
    "    predicted_label = torch.argmax(prediction, dim=1).item()\n",
    "\n",
    "    # Display the image with actual and predicted labels\n",
    "    ax.imshow(image.squeeze(), cmap=\"gray\")\n",
    "    ax.set_title(f\"Actual: {label}\\nPredicted: {predicted_label}\")\n",
    "    ax.axis(\"off\")  # Remove axes for clarity\n",
    "\n",
    "plt.tight_layout()\n",
    "plt.show()"
   ]
  }
 ],
 "metadata": {
  "kernelspec": {
   "display_name": "Python 3",
   "language": "python",
   "name": "python3"
  },
  "language_info": {
   "codemirror_mode": {
    "name": "ipython",
    "version": 3
   },
   "file_extension": ".py",
   "mimetype": "text/x-python",
   "name": "python",
   "nbconvert_exporter": "python",
   "pygments_lexer": "ipython3",
   "version": "3.11.9"
  }
 },
 "nbformat": 4,
 "nbformat_minor": 5
}
